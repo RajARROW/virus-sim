{
 "cells": [
  {
   "cell_type": "code",
   "execution_count": null,
   "metadata": {},
   "outputs": [],
   "source": [
    "!pip install plotly\n",
    "import os\n",
    "import sys\n",
    "import matplotlib.pyplot as plt\n",
    "import numpy as np\n",
    "import pandas as pd\n",
    "from scipy.integrate import odeint\n",
    "import plotly.graph_objects as go\n",
    "# import plotly.io as pio\n",
    "# pio.renderers.default = \"notebook\"\n",
    "# %matplotlib inline\n",
    "# plt.style.use('ggplot')\n",
    "import matplotlib.pyplot as plt\n",
    "import seaborn as sns\n",
    "from matplotlib import colors\n"
   ]
  },
  {
   "cell_type": "code",
   "execution_count": null,
   "metadata": {},
   "outputs": [],
   "source": [
    "# Jupyter Specifics\n",
    "!pip install ipywidgets\n",
    "from IPython.display import HTML\n",
    "from ipywidgets.widgets import interact, IntSlider, FloatSlider, Layout\n",
    "\n",
    "style = {'description_width': '100px'}\n",
    "slider_layout = Layout(width='99%')"
   ]
  },
  {
   "cell_type": "code",
   "execution_count": null,
   "metadata": {},
   "outputs": [],
   "source": [
    "start_day = 25\n",
    "end_day = 39\n",
    "lockdown = True"
   ]
  },
  {
   "cell_type": "code",
   "execution_count": null,
   "metadata": {},
   "outputs": [],
   "source": [
    "def ode_model(z, t, beta, sigma, gamma):\n",
    "    \"\"\"\n",
    "    ode_model calculate the values for equation.\n",
    "\n",
    "    :param z: array of [initS, initE, initI, initR]\n",
    "    :param t: time\n",
    "    :param beta: Infection rate\n",
    "    :param sigma: Incubation rate\n",
    "    :param gamma: Recovery rate\n",
    "    :return: array of derivative values [dSdt, dEdt, dIdt, dRdt]\n",
    "    \"\"\" \n",
    "    S, E, I, R = z\n",
    "    N = S + E + I + R\n",
    "    \n",
    "    if lockdown:\n",
    "        dSdt = -get_beta(t)*S*I/N\n",
    "        dEdt = get_beta(t)*S*I/N - sigma*E\n",
    "    else:\n",
    "        dSdt = -beta*S*I/N\n",
    "        dEdt = beta*S*I/N - sigma*E\n",
    "    dIdt = sigma*E - gamma*I\n",
    "    dRdt = gamma*I\n",
    "    return [dSdt, dEdt, dIdt, dRdt]"
   ]
  },
  {
   "cell_type": "code",
   "execution_count": null,
   "metadata": {},
   "outputs": [],
   "source": [
    "def R_0(t):\n",
    "    \"\"\"\n",
    "    R_0 function to calculate varying value of R\n",
    "\n",
    "    :param t: time (day)\n",
    "    :return: new value of R_0\n",
    "    \"\"\" \n",
    "    if t > start_day and t < end_day:\n",
    "        return 2.2\n",
    "    else:\n",
    "        return 3.8\n",
    "\n",
    "def get_beta(t):\n",
    "    \"\"\"\n",
    "    get_beta function to calculate new value of beta based on condition\n",
    "\n",
    "    :param t: time (day)\n",
    "    :return: new value of beta\n",
    "    \"\"\"\n",
    "    return R_0(t) * gamma"
   ]
  },
  {
   "cell_type": "code",
   "execution_count": null,
   "metadata": {},
   "outputs": [],
   "source": [
    "def ode_solver(t, initial_conditions, params):\n",
    "    initE, initI, initR, initN = initial_conditions\n",
    "    beta, sigma, gamma = params\n",
    "    initS = initN - (initE + initI + initR)\n",
    "    res = odeint(ode_model, [initS, initE, initI, initR], t, args=(beta, sigma, gamma))\n",
    "    return res"
   ]
  },
  {
   "cell_type": "code",
   "execution_count": null,
   "metadata": {},
   "outputs": [],
   "source": [
    "initN = 10000\n",
    "initE = 1\n",
    "initI = 5\n",
    "initR = 0\n",
    "sigma = 1/5.2\n",
    "gamma = 1/2.9\n",
    "R0 = 3.8\n",
    "beta = R0 * gamma\n",
    "days = 100"
   ]
  },
  {
   "cell_type": "code",
   "execution_count": null,
   "metadata": {},
   "outputs": [],
   "source": [
    "plt.rcParams['savefig.facecolor']='white'\n",
    "\n",
    "def main(initE, initI, initR, initN, beta, sigma, gamma, days):\n",
    "    initial_conditions = [initE, initI, initR, initN]\n",
    "    params = [beta, sigma, gamma]\n",
    "    tspan = np.arange(0, days, 1)\n",
    "    sol = ode_solver(tspan, initial_conditions, params)\n",
    "    S, E, I, R = sol[:, 0], sol[:, 1], sol[:, 2], sol[:, 3]\n",
    "    \n",
    "\n",
    "    simulation = pd.DataFrame({\"susceptible\":S, \"exposed\":E, \n",
    "                \"infectious\":I, \"removed\":R})\n",
    "    color_list = [\"blue\",\"red\",\"green\",\"purple\"]\n",
    "\n",
    "    sns.lineplot(data=simulation,palette=color_list).set(title = 'SEIR Model', xlabel = 'Days', ylabel = 'Population')\n",
    "\n",
    "    if lockdown:\n",
    "        plt.axvline(start_day, linestyle=\"--\", color='gray')\n",
    "        plt.axvline(end_day, linestyle=\"--\", color='gray')\n",
    "\n",
    "    if not os.path.exists(\"images\"):\n",
    "        os.mkdir(\"images\")\n",
    "    plt.savefig(\"images/seir_simulation.png\", bbox_inches=\"tight\")\n"
   ]
  },
  {
   "cell_type": "code",
   "execution_count": null,
   "metadata": {},
   "outputs": [],
   "source": [
    "interact(main, initE=IntSlider(min=0, max=100000, step=1, value=initE, description='initE', style=style, layout=slider_layout),\n",
    "               initI=IntSlider(min=0, max=100000, step=10, value=initI, description='initI', style=style, layout=slider_layout),\n",
    "               initR=IntSlider(min=0, max=100000, step=10, value=initR, description='initR', style=style, layout=slider_layout),\n",
    "               initN=IntSlider(min=0, max=1380000000, step=1000, value=initN, description='initN', style=style, layout=slider_layout),\n",
    "               beta=FloatSlider(min=0, max=4, step=0.01, value=beta, description='Infection rate', style=style, layout=slider_layout),\n",
    "               sigma=FloatSlider(min=0, max=4, step=0.01, value=sigma, description='Incubation rate', style=style, layout=slider_layout),\n",
    "               gamma=FloatSlider(min=0, max=4, step=0.01, value=gamma, description='Recovery rate', style=style, layout=slider_layout),\n",
    "               days=IntSlider(min=1, max=600, step=7, value=days, description='Days', style=style, layout=slider_layout)\n",
    "        )"
   ]
  },
  {
   "cell_type": "code",
   "execution_count": null,
   "metadata": {},
   "outputs": [],
   "source": []
  },
  {
   "cell_type": "code",
   "execution_count": null,
   "metadata": {},
   "outputs": [],
   "source": []
  },
  {
   "cell_type": "code",
   "execution_count": null,
   "metadata": {},
   "outputs": [],
   "source": []
  }
 ],
 "metadata": {
  "interpreter": {
   "hash": "95622b543cc2217d2d6358bc56629c3cee7d37341fbd52e83e4299d474d10332"
  },
  "kernelspec": {
   "display_name": "Python 3",
   "language": "python",
   "name": "python3"
  },
  "language_info": {
   "codemirror_mode": {
    "name": "ipython",
    "version": 3
   },
   "file_extension": ".py",
   "mimetype": "text/x-python",
   "name": "python",
   "nbconvert_exporter": "python",
   "pygments_lexer": "ipython3",
   "version": "3.10.4"
  }
 },
 "nbformat": 4,
 "nbformat_minor": 2
}
